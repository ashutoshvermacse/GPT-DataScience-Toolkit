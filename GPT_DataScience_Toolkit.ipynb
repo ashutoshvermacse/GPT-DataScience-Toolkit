{
  "cells": [
    {
      "cell_type": "markdown",
      "source": [
        "### **Install OpenAI library**"
      ],
      "metadata": {
        "id": "Obe0G81epaaj"
      }
    },
    {
      "cell_type": "code",
      "execution_count": null,
      "metadata": {
        "id": "DSGthYaMjRHj"
      },
      "outputs": [],
      "source": [
        "!pip install openai"
      ]
    },
    {
      "cell_type": "markdown",
      "source": [
        "### **Import modules**"
      ],
      "metadata": {
        "id": "cK-N3-A-jn3Q"
      }
    },
    {
      "cell_type": "code",
      "execution_count": null,
      "metadata": {
        "id": "nZd71qMk3rLK"
      },
      "outputs": [],
      "source": [
        "from IPython.core.display import HTML\n",
        "from IPython.display import Audio\n",
        "from google.colab import files\n",
        "from openai import OpenAI\n",
        "\n",
        "client = OpenAI(api_key = '#### Insert your-key here ####')"
      ]
    },
    {
      "cell_type": "markdown",
      "metadata": {
        "id": "O8RBpYIe3Mqq"
      },
      "source": [
        "### **Generate SQL Query from screenshot of tables**\n",
        "\n",
        "\n",
        "\n"
      ]
    },
    {
      "cell_type": "code",
      "execution_count": null,
      "metadata": {
        "id": "kSRvkaaZA_X5"
      },
      "outputs": [],
      "source": [
        "response = client.chat.completions.create(\n",
        "  model=\"gpt-4-vision-preview\",\n",
        "  messages=[\n",
        "    {\n",
        "      \"role\": \"user\",\n",
        "      \"content\": [\n",
        "        {\"type\": \"text\", \"text\": \"I have uploaded three tables. Please write an SQL query to determine whether Robert has received his Mouse.\"},\n",
        "        {\n",
        "          \"type\": \"image_url\",\n",
        "          \"image_url\": {\n",
        "            \"url\": \"#### Insert URL of the screenshot of tables ####\",\n",
        "          },\n",
        "        },\n",
        "      ],\n",
        "    }\n",
        "  ],\n",
        "  max_tokens=300,\n",
        ")\n",
        "\n",
        "print(response.choices[0].message.content)\n"
      ]
    },
    {
      "cell_type": "markdown",
      "metadata": {
        "id": "YohqoqgyQ4dN"
      },
      "source": [
        "### **Design databases/write code via voice instructions !!**"
      ]
    },
    {
      "cell_type": "code",
      "execution_count": null,
      "metadata": {
        "id": "M0LMRTf5RUy-"
      },
      "outputs": [],
      "source": [
        "# Example 1 : Design a database for an online store\n",
        "# Example 2 : Implement Dijkstra's Algorithm in Python\n",
        "\n",
        "# Upload an MP3 file\n",
        "uploaded = files.upload()\n",
        "\n",
        "# Get the file name\n",
        "mp3_file_name = list(uploaded.keys())[0]\n",
        "\n",
        "# Display the audio player widget\n",
        "display(Audio(mp3_file_name))\n",
        "\n",
        "audio_file = open(mp3_file_name, \"rb\")\n",
        "transcript = client.audio.transcriptions.create(\n",
        "  model=\"whisper-1\",\n",
        "  file=audio_file,\n",
        "  response_format=\"text\"\n",
        ")\n",
        "\n",
        "response = client.chat.completions.create(\n",
        "  model=\"gpt-4\",\n",
        "  messages=[{\"role\": \"user\", \"content\": transcript}],\n",
        "  temperature=0,\n",
        "  max_tokens=2048\n",
        ")\n",
        "\n",
        "print(response.choices[0].message.content)\n"
      ]
    },
    {
      "cell_type": "markdown",
      "metadata": {
        "id": "7wEOh5UU5z7-"
      },
      "source": [
        "### **Generate Extensive reports from figures/diagrams**\n"
      ]
    },
    {
      "cell_type": "code",
      "execution_count": null,
      "metadata": {
        "id": "2BZzMbPJGXkA"
      },
      "outputs": [],
      "source": [
        "response = client.chat.completions.create(\n",
        "  model=\"gpt-4-vision-preview\",\n",
        "  messages=[\n",
        "    {\n",
        "      \"role\": \"user\",\n",
        "      \"content\": [\n",
        "        {\"type\": \"text\", \"text\": \"Write a detailed report about this graph\"},\n",
        "        {\n",
        "          \"type\": \"image_url\",\n",
        "          \"image_url\": {\n",
        "            \"url\": \"#### Insert URL of graph/figure ####\",\n",
        "          },\n",
        "        },\n",
        "      ],\n",
        "    }\n",
        "  ],\n",
        "  max_tokens=300,\n",
        ")\n",
        "\n",
        "print(response.choices[0].message.content)"
      ]
    },
    {
      "cell_type": "markdown",
      "metadata": {
        "id": "h6D6rqsf-l4G"
      },
      "source": [
        "### **Enhance code readability**"
      ]
    },
    {
      "cell_type": "code",
      "execution_count": null,
      "metadata": {
        "id": "WilvF4ZRJ0Xa"
      },
      "outputs": [],
      "source": [
        "python_code = \"\"\"\n",
        "def example_function(x):\n",
        "    if x > 0:\n",
        "        return x * 2\n",
        "    else:\n",
        "        return x\n",
        "\"\"\"\n",
        "prompt = f\"Code readability check: Given the following Python code, provide suggestions for improving readability and adhering to best practices.\\n\\n```{python_code}\\n```\\n\"\n",
        "\n",
        "response = client.chat.completions.create(\n",
        "  model=\"gpt-4\",\n",
        "  messages=[{\"role\": \"user\", \"content\": prompt}],\n",
        "  temperature=0,\n",
        "  max_tokens=2048\n",
        ")\n",
        "\n",
        "print(response.choices[0].message.content)\n"
      ]
    },
    {
      "cell_type": "markdown",
      "metadata": {
        "id": "cvgJnydcCUqr"
      },
      "source": [
        "\n",
        "\n",
        "\n",
        "\n",
        "### **Generate a test routine**"
      ]
    },
    {
      "cell_type": "code",
      "execution_count": null,
      "metadata": {
        "id": "MXT02g_ICY-_"
      },
      "outputs": [],
      "source": [
        "function_description = \"\"\"\n",
        "Function: add_numbers\n",
        "Description: This function takes two numbers as input and returns their sum.\n",
        "Parameters:\n",
        "  - num1 (int): The first number.\n",
        "  - num2 (int): The second number.\n",
        "Returns:\n",
        "  - int: The sum of num1 and num2.\n",
        "\"\"\"\n",
        "prompt = f\"Given the following function description, create a test routine in Python:\\n\\n{function_description}\\n\\nTest Routine:\"\n",
        "\n",
        "response = client.chat.completions.create(\n",
        "  model=\"gpt-4\",\n",
        "  messages=[{\"role\": \"user\", \"content\": prompt}],\n",
        "  temperature=0,\n",
        "  max_tokens=2048\n",
        ")\n",
        "\n",
        "print(response.choices[0].message.content)"
      ]
    },
    {
      "cell_type": "markdown",
      "metadata": {
        "id": "sdsCr1b7HHif"
      },
      "source": [
        "### **Learn new technical concepts**"
      ]
    },
    {
      "cell_type": "code",
      "execution_count": null,
      "metadata": {
        "colab": {
          "background_save": true,
          "base_uri": "https://localhost:8080/"
        },
        "id": "q5EnkVjH_yzl",
        "outputId": "06849276-1894-4d04-b0bb-07e43c0e06f0"
      },
      "outputs": [
        {
          "name": "stdout",
          "output_type": "stream",
          "text": [
            "\n",
            "\n",
            "\n",
            "\n",
            "\n",
            "\n",
            "\n",
            "\n",
            "\n",
            "\n",
            "\n",
            "\n"
          ]
        }
      ],
      "source": [
        "#Infinite Loop for GPT-4\n",
        "message = {\"role\":\"user\", \"content\": input(\"Ich bin GPT-4. Was kann ich fuer Sie tun ? [To exit, send \\\"STOP\\\".]\\n\\nYou:\")};\n",
        "\n",
        "conversation = [{\"role\": \"system\", \"content\": \"Magic of GPT-4\"}]\n",
        "\n",
        "while(message[\"content\"]!=\"STOP\"):\n",
        "    conversation.append(message)\n",
        "    completion = client.chat.completions.create(model=\"gpt-4-1106-preview\", messages=conversation)\n",
        "    message[\"content\"] = input(f\"\\nGPT-4: {completion.choices[0].message.content} \\n\\nYou:\")\n",
        "    print(\"\\n\\n\")\n",
        "    conversation.append(completion.choices[0].message)\n"
      ]
    }
  ],
  "metadata": {
    "colab": {
      "provenance": [],
      "authorship_tag": "ABX9TyP8e6jSGC2Hh2xsA5WGvQ3j"
    },
    "kernelspec": {
      "display_name": "Python 3",
      "name": "python3"
    },
    "language_info": {
      "name": "python"
    }
  },
  "nbformat": 4,
  "nbformat_minor": 0
}